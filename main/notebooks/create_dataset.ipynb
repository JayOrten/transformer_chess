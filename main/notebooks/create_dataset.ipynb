{
 "cells": [
  {
   "cell_type": "code",
   "execution_count": 1,
   "metadata": {},
   "outputs": [
    {
     "name": "stderr",
     "output_type": "stream",
     "text": [
      "c:\\Users\\jayor\\anaconda3\\envs\\chess_transformer\\lib\\site-packages\\tqdm\\auto.py:21: TqdmWarning: IProgress not found. Please update jupyter and ipywidgets. See https://ipywidgets.readthedocs.io/en/stable/user_install.html\n",
      "  from .autonotebook import tqdm as notebook_tqdm\n"
     ]
    }
   ],
   "source": [
    "from datasets import load_dataset"
   ]
  },
  {
   "attachments": {},
   "cell_type": "markdown",
   "metadata": {},
   "source": [
    "Load Dataset"
   ]
  },
  {
   "cell_type": "code",
   "execution_count": 25,
   "metadata": {},
   "outputs": [
    {
     "name": "stderr",
     "output_type": "stream",
     "text": [
      "Resolving data files: 100%|██████████| 75/75 [00:00<?, ?it/s]\n"
     ]
    },
    {
     "name": "stdout",
     "output_type": "stream",
     "text": [
      "Downloading and preparing dataset text/default to C:/Users/jayor/.cache/huggingface/datasets/text/default-977cc71946c452c6/0.0.0/cb1e9bd71a82ad27976be3b12b407850fe2837d80c22c5e03a28949843a8ace2...\n"
     ]
    },
    {
     "name": "stderr",
     "output_type": "stream",
     "text": [
      "Downloading data files: 100%|██████████| 1/1 [00:00<00:00, 200.44it/s]\n",
      "Extracting data files: 100%|██████████| 1/1 [00:00<00:00,  3.56it/s]\n",
      "                                                                      \r"
     ]
    },
    {
     "name": "stdout",
     "output_type": "stream",
     "text": [
      "Dataset text downloaded and prepared to C:/Users/jayor/.cache/huggingface/datasets/text/default-977cc71946c452c6/0.0.0/cb1e9bd71a82ad27976be3b12b407850fe2837d80c22c5e03a28949843a8ace2. Subsequent calls will reuse this data.\n"
     ]
    },
    {
     "name": "stderr",
     "output_type": "stream",
     "text": [
      "100%|██████████| 1/1 [00:00<00:00,  9.21it/s]\n"
     ]
    }
   ],
   "source": [
    "dataset = load_dataset(\"text\", data_dir=\"../data/move_files\")"
   ]
  },
  {
   "attachments": {},
   "cell_type": "markdown",
   "metadata": {},
   "source": [
    "Test dataset"
   ]
  },
  {
   "cell_type": "code",
   "execution_count": 27,
   "metadata": {},
   "outputs": [
    {
     "data": {
      "text/plain": [
       "{'text': 'e4 e5 Nf3 Nc6 Bb5 a6 Ba4 Nf6 O-O Be7 Re1 b5 Bb3 d6 c3 O-O h3 Na5 Bc2 c5 d4 Qc7 Nbd2 Nc6 dxc5 dxc5 Nf1 Be6 Ne3 Rad8 Qe2 c4 a4 h6 Nf5 Bc5 Be3 Bxe3 Nxe3 Nd4 cxd4 exd4 Nd5 Bxd5 exd5 d3 Bxd3 cxd3 Qxd3 Rxd5 Qb3 Rfd8 axb5 Rxb5 Qa3 a5'}"
      ]
     },
     "execution_count": 27,
     "metadata": {},
     "output_type": "execute_result"
    }
   ],
   "source": [
    "dataset['train'][500]"
   ]
  },
  {
   "attachments": {},
   "cell_type": "markdown",
   "metadata": {},
   "source": [
    "Save to HF hub"
   ]
  },
  {
   "cell_type": "code",
   "execution_count": 30,
   "metadata": {},
   "outputs": [
    {
     "name": "stderr",
     "output_type": "stream",
     "text": [
      "Pushing split train to the Hub.\n",
      "c:\\Users\\jayor\\anaconda3\\envs\\chess_transformer\\lib\\site-packages\\huggingface_hub\\utils\\_hf_folder.py:92: UserWarning: A token has been found in `C:\\Users\\jayor\\.huggingface\\token`. This is the old path where tokens were stored. The new location is `C:\\Users\\jayor\\.cache\\huggingface\\token` which is configurable using `HF_HOME` environment variable. Your token has been copied to this new location. You can now safely delete the old token file manually or use `huggingface-cli logout`.\n",
      "Creating parquet from Arrow format: 100%|██████████| 1017/1017 [00:03<00:00, 322.34ba/s]\n",
      "Upload 1 LFS files: 100%|██████████| 1/1 [00:26<00:00, 26.38s/it]\n",
      "Creating parquet from Arrow format: 100%|██████████| 1017/1017 [00:02<00:00, 465.42ba/s]\n",
      "Upload 1 LFS files: 100%|██████████| 1/1 [00:24<00:00, 24.50s/it]\n",
      "Pushing dataset shards to the dataset hub: 100%|██████████| 2/2 [00:58<00:00, 29.18s/it]\n"
     ]
    }
   ],
   "source": [
    "dataset.push_to_hub('royal42/lichess_elite_games', private=True)"
   ]
  }
 ],
 "metadata": {
  "kernelspec": {
   "display_name": "chess_transformer",
   "language": "python",
   "name": "python3"
  },
  "language_info": {
   "codemirror_mode": {
    "name": "ipython",
    "version": 3
   },
   "file_extension": ".py",
   "mimetype": "text/x-python",
   "name": "python",
   "nbconvert_exporter": "python",
   "pygments_lexer": "ipython3",
   "version": "3.9.16"
  },
  "orig_nbformat": 4
 },
 "nbformat": 4,
 "nbformat_minor": 2
}
