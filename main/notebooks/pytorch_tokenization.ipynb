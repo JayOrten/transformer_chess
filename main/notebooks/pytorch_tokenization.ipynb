{
 "cells": [
  {
   "cell_type": "code",
   "execution_count": null,
   "metadata": {},
   "outputs": [],
   "source": [
    "import pickle as pkl\n",
    "import spacy\n",
    "import re\n",
    "import torchtext.vocab\n",
    "from torchtext.vocab import build_vocab_from_iterator\n",
    "from os.path import exists\n",
    "import os\n",
    "import torch\n",
    "import sys"
   ]
  },
  {
   "cell_type": "code",
   "execution_count": null,
   "metadata": {},
   "outputs": [],
   "source": [
    "def tokenize(text, tokenizer):\n",
    "    x = 0\n",
    "    return [tok.text for tok in tokenizer.tokenizer(text)]"
   ]
  },
  {
   "cell_type": "code",
   "execution_count": null,
   "metadata": {},
   "outputs": [],
   "source": [
    "def yield_tokens(data_iter, tokenizer):\n",
    "    for line in data_iter:\n",
    "        yield tokenizer(line)"
   ]
  },
  {
   "cell_type": "code",
   "execution_count": null,
   "metadata": {},
   "outputs": [],
   "source": [
    "def build_vocabulary_from_file(spacy_en, filename: str, lowercase=True):\n",
    "    def tokenize_en(text):\n",
    "        return tokenize(text, spacy_en)\n",
    "\n",
    "    print(f\"Building English Vocabulary from {filename} ...\")\n",
    "    # train, val, test = datasets.Multi30k(language_pair=(\"de\", \"en\"))\n",
    "    with open(filename, encoding=\"utf-8\") as f:\n",
    "        if lowercase:\n",
    "            train = f.read().lower().splitlines()\n",
    "        else:\n",
    "            train = f.read().splitlines()\n",
    "    vocab = build_vocab_from_iterator(\n",
    "        yield_tokens(train, tokenize_en),\n",
    "        min_freq=1,\n",
    "        specials=[\"<s>\", \"</s>\", \"<blank>\", \"<unk>\"],\n",
    "    )\n",
    "\n",
    "    vocab.set_default_index(vocab[\"<unk>\"])\n",
    "\n",
    "    return vocab"
   ]
  },
  {
   "cell_type": "code",
   "execution_count": null,
   "metadata": {},
   "outputs": [],
   "source": [
    "def load_vocab(filename: str):\n",
    "    if not exists(filename):\n",
    "        raise Exception\n",
    "    else:\n",
    "        vocab = torch.load(filename)\n",
    "    print(\"Finished.\\nVocabulary sizes:\")\n",
    "    print(len(vocab))\n",
    "    return vocab"
   ]
  },
  {
   "cell_type": "code",
   "execution_count": null,
   "metadata": {},
   "outputs": [],
   "source": [
    "def build_and_save_vocab_from_file(nlp, txt_filename, vocab_save_filename):\n",
    "    vocab = build_vocabulary_from_file(nlp, txt_filename)\n",
    "    torch.save((vocab), vocab_save_filename)\n",
    "    return vocab"
   ]
  },
  {
   "cell_type": "code",
   "execution_count": null,
   "metadata": {},
   "outputs": [],
   "source": [
    "def get_vocab_indx_vector(vocab, tokenizer, text):\n",
    "    return vocab([tok.text for tok in tokenizer.tokenizer(text)])"
   ]
  },
  {
   "cell_type": "code",
   "execution_count": null,
   "metadata": {},
   "outputs": [],
   "source": [
    "def decode_vocab(vocab: torchtext.vocab.Vocab, tokens_ind):\n",
    "    return vocab.lookup_tokens(tokens_ind)"
   ]
  },
  {
   "cell_type": "code",
   "execution_count": null,
   "metadata": {},
   "outputs": [],
   "source": [
    "def generate_tokenized_file(vocab, tokenizer,  txt_filename: str, tok_filename: str, lowercase=False):\n",
    "    with open(txt_filename, mode=\"r\", encoding=\"utf-8\") as txt_f:\n",
    "        if lowercase:\n",
    "            complete_txt = \" \".join(filter(None, txt_f.read().lower().splitlines()))\n",
    "        else:\n",
    "            complete_txt = \" \".join(filter(None, txt_f.read().splitlines()))\n",
    "        with open(tok_filename, mode=\"wb\") as tok_f:\n",
    "            tokenized_txt = get_vocab_indx_vector(vocab, tokenizer, complete_txt)\n",
    "            pkl.dump(tokenized_txt, tok_f)"
   ]
  },
  {
   "cell_type": "code",
   "execution_count": null,
   "metadata": {},
   "outputs": [],
   "source": [
    "vocab = build_and_save_vocab_from_file(tokenizer, \"\", \"\")\n",
    "generate_tokenized_file(vocab, tokenizer, filename, output_file, lowercase=True)\n"
   ]
  }
 ],
 "metadata": {
  "language_info": {
   "name": "python"
  },
  "orig_nbformat": 4
 },
 "nbformat": 4,
 "nbformat_minor": 2
}
